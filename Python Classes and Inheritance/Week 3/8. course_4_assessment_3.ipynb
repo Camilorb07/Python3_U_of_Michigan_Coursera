{
 "cells": [
  {
   "cell_type": "markdown",
   "metadata": {},
   "source": [
    "# course_4_assessment_3"
   ]
  },
  {
   "cell_type": "code",
   "execution_count": 5,
   "metadata": {},
   "outputs": [],
   "source": [
    "def lr(n): return list(range(n))\n",
    "\n",
    "# THESE FUNCTIONS ARE INTENTIONALLY OBFUSCATED\n",
    "# PLEASE TRY TO WRITE TESTS FOR THEM RATHER THAN\n",
    "# READING THEM.\n",
    "def mySum(a):\n",
    "    if type(a) is type(''.join([][:])): return a[lr(1)[0]] + mySum(a[1:])\n",
    "    elif len(a)==len(lr(1)+[]): return a[lr(1)[0]]\n",
    "    else: return None and a[lr(1)[0]] + mySum(a[1:])\n",
    "\n",
    "\n",
    "# THESE FUNCTIONS ARE INTENTIONALLY OBFUSCATED\n",
    "# PLEASE TRY TO WRITE TESTS FOR THEM RATHER THAN\n",
    "# READING THEM.\n",
    "class Student():\n",
    "    def __init__(s,a,b=1): s.name,s.years_UM,s.knowledge = ''*200+a+''*100,1,len(lr(0)) + len([])\n",
    "    def study(s):\n",
    "        for _ in lr(s.knowledge): s.knowledge = s.knowledge + 1\n",
    "    def getKnowledge(s):\n",
    "        for i in lr(s.knowledge): return s.knowledge\n",
    "    def year_at_umich(s): return s.years_UM\n",
    "\n",
    "class test():\n",
    "    def testEqual(x,y):\n",
    "        if x==y:\n",
    "            print('Passed')\n",
    "        else:\n",
    "            print('Failed')"
   ]
  },
  {
   "cell_type": "markdown",
   "metadata": {},
   "source": [
    "### Questions"
   ]
  },
  {
   "cell_type": "markdown",
   "metadata": {},
   "source": [
    "The function mySum is supposed to return the sum of a list of numbers (and 0 if that list is empty), but it has one or more errors in it. Use this space to write test cases to determine what errors there are. You will be using this information to answer the next set of multiple choice questions."
   ]
  },
  {
   "cell_type": "code",
   "execution_count": 7,
   "metadata": {},
   "outputs": [
    {
     "name": "stdout",
     "output_type": "stream",
     "text": [
      "Failed\n",
      "Passed\n",
      "Failed\n"
     ]
    }
   ],
   "source": [
    "#import test #uncomment this\n",
    "test.testEqual(mySum([]),0)\n",
    "test.testEqual(mySum([1]),1)\n",
    "test.testEqual(mySum([1,2]),3)"
   ]
  },
  {
   "cell_type": "markdown",
   "metadata": {},
   "source": [
    "test-4-1: Which of the following cases fail for the mySum function?"
   ]
  },
  {
   "cell_type": "markdown",
   "metadata": {},
   "source": [
    "1. (X) an empty list\n",
    "2. ( ) a list with one item\n",
    "3. (X) a list with more than one item"
   ]
  },
  {
   "cell_type": "markdown",
   "metadata": {},
   "source": [
    "test-4-2: Are there any other cases, that we can determine based on the current structure of the function, that also fail for the mySum function?"
   ]
  },
  {
   "cell_type": "markdown",
   "metadata": {},
   "source": [
    "1. ( ) Yes\n",
    "2. (X) No"
   ]
  },
  {
   "cell_type": "markdown",
   "metadata": {},
   "source": [
    "The class Student is supposed to accept two arguments in its constructor:\n",
    "1. A name string\n",
    "\n",
    "2. An optional integer representing the number of years the student has been at Michigan (default:1)\n",
    "\n",
    "Every student has three instance variables:\n",
    "1. self.name (set to the name provided)\n",
    "\n",
    "2. self.years_UM (set to the number of years the student has been at Michigan)\n",
    "\n",
    "3. self.knowledge (initialized to 0)\n",
    "\n",
    "There are three methods:\n",
    "* .study() should increase self.knowledge by 1 and return None\n",
    "\n",
    "* .getKnowledge() should return the value of self.knowledge\n",
    "\n",
    "* .year_at_umich() should return the value of self.years_UM\n",
    "\n",
    "There are one or more errors in the class. Use this space to write test cases to determine what errors there are. You will be using this information to answer the next set of multiple choice questions."
   ]
  },
  {
   "cell_type": "code",
   "execution_count": null,
   "metadata": {},
   "outputs": [],
   "source": []
  },
  {
   "cell_type": "markdown",
   "metadata": {},
   "source": [
    "test-4-3: Which of the following cases fail for the Student class?"
   ]
  },
  {
   "cell_type": "markdown",
   "metadata": {},
   "source": [
    "1. ( ) the method study does not return None\n",
    "2. ( ) the optional integer in the constructor is not optional\n",
    "3. (X) the attributes/instance variables are not correctly assigned in the constructor\n",
    "4. (X) the method study does not increase self.knowledge\n",
    "5. ( ) the method year_at_umich does not return the value of self.years_UM"
   ]
  },
  {
   "cell_type": "markdown",
   "metadata": {},
   "source": [
    "test-4-4: Are there any other cases, that we can determine based on the current structure of the class, that also fail for the Student class?"
   ]
  },
  {
   "cell_type": "markdown",
   "metadata": {},
   "source": [
    "1. (X) Yes\n",
    "2. ( ) No"
   ]
  },
  {
   "cell_type": "code",
   "execution_count": null,
   "metadata": {},
   "outputs": [],
   "source": []
  }
 ],
 "metadata": {
  "kernelspec": {
   "display_name": "Python 3",
   "language": "python",
   "name": "python3"
  },
  "language_info": {
   "codemirror_mode": {
    "name": "ipython",
    "version": 3
   },
   "file_extension": ".py",
   "mimetype": "text/x-python",
   "name": "python",
   "nbconvert_exporter": "python",
   "pygments_lexer": "ipython3",
   "version": "3.7.4"
  }
 },
 "nbformat": 4,
 "nbformat_minor": 4
}
