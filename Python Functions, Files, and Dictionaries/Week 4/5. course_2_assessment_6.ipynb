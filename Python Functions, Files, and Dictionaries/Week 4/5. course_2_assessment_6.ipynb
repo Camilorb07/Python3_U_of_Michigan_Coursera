{
 "cells": [
  {
   "cell_type": "markdown",
   "metadata": {},
   "source": [
    "# course_2_assessment_6"
   ]
  },
  {
   "cell_type": "markdown",
   "metadata": {},
   "source": [
    "### Questions"
   ]
  },
  {
   "cell_type": "markdown",
   "metadata": {},
   "source": [
    "Write a function, sublist, that takes in a list of numbers as the parameter. In the function, use a while loop to return a sublist of the input list. The sublist should contain the same values of the original list up until it reaches the number 5 (it should not contain the number 5)."
   ]
  },
  {
   "cell_type": "code",
   "execution_count": 1,
   "metadata": {},
   "outputs": [
    {
     "name": "stdout",
     "output_type": "stream",
     "text": [
      "[1, 6, 3, 8]\n"
     ]
    }
   ],
   "source": [
    "def sublist(x):\n",
    "    sub = []\n",
    "    x = (num for num in x) \n",
    "    num = next(x, 5)  \n",
    "    while num != 5:\n",
    "        sub.append(num)\n",
    "        num = next(x, 5)  \n",
    "    return sub\n",
    "x = sublist([1,6,3,8,5,6,7,2])\n",
    "print(x)"
   ]
  },
  {
   "cell_type": "markdown",
   "metadata": {},
   "source": [
    "Write a function called check_nums that takes a list as its parameter, and contains a while loop that only stops once the element of the list is the number 7. What is returned is a list of all of the numbers up until it reaches 7."
   ]
  },
  {
   "cell_type": "code",
   "execution_count": 2,
   "metadata": {},
   "outputs": [
    {
     "name": "stdout",
     "output_type": "stream",
     "text": [
      "<generator object check_nums.<locals>.<genexpr> at 0x000001DE4BD8D148>\n",
      "[1, 3, 4, 5, 6]\n"
     ]
    }
   ],
   "source": [
    "def check_nums(x):\n",
    "    sub = []\n",
    "    x = (num for num in x) \n",
    "    print(x)\n",
    "    num = next(x, 7)  \n",
    "    while num != 7:\n",
    "        sub.append(num)\n",
    "        num = next(x, 7)  \n",
    "    return sub\n",
    "\n",
    "x = [1, 3, 4, 5, 6, 7, 3]\n",
    "print(check_nums(x))"
   ]
  },
  {
   "cell_type": "markdown",
   "metadata": {},
   "source": [
    "Write a function, sublist, that takes in a list of strings as the parameter. In the function, use a while loop to return a sublist of the input list. The sublist should contain the same values of the original list up until it reaches the string “STOP” (it should not contain the string “STOP”)."
   ]
  },
  {
   "cell_type": "code",
   "execution_count": 3,
   "metadata": {},
   "outputs": [
    {
     "name": "stdout",
     "output_type": "stream",
     "text": [
      "[1, 2, 3]\n"
     ]
    }
   ],
   "source": [
    "def sublist(list):\n",
    "    i = 0\n",
    "    while i < len(list):\n",
    "\n",
    "        if (list[i] == 'STOP'):\n",
    "            return list[0:i]\n",
    "        i+=1\n",
    "    return list[0:i]\n",
    "x = sublist([1,2,3,\"STOP\",5,67,\"hi\"])\n",
    "print(x)"
   ]
  },
  {
   "cell_type": "markdown",
   "metadata": {},
   "source": [
    "Write a function called stop_at_z that iterates through a list of strings. Using a while loop, append each string to a new list until the string that appears is “z”. The function should return the new list."
   ]
  },
  {
   "cell_type": "code",
   "execution_count": 4,
   "metadata": {},
   "outputs": [
    {
     "name": "stdout",
     "output_type": "stream",
     "text": [
      "[1]\n"
     ]
    }
   ],
   "source": [
    "def stop_at_z(list):\n",
    "    i = 0\n",
    "    while i < len(list):\n",
    "\n",
    "        if (list[i] == 'z'):\n",
    "            return list[0:i]\n",
    "        i+=1\n",
    "    return list[0:i]\n",
    "x = stop_at_z([1,\"z\",3,5,\"t\"])\n",
    "print(x)"
   ]
  },
  {
   "cell_type": "markdown",
   "metadata": {},
   "source": [
    "Below is a for loop that works. Underneath the for loop, rewrite the problem so that it does the same thing, but using a while loop instead of a for loop. Assign the accumulated total in the while loop code to the variable sum2. Once complete, sum2 should equal sum1."
   ]
  },
  {
   "cell_type": "code",
   "execution_count": 5,
   "metadata": {},
   "outputs": [
    {
     "name": "stdout",
     "output_type": "stream",
     "text": [
      "197\n",
      "197\n"
     ]
    }
   ],
   "source": [
    "sum1 = 0\n",
    "sum2 = 0\n",
    "i = 0\n",
    "lst = [65, 78, 21, 33]\n",
    "\n",
    "for x in lst:\n",
    "    sum1 = sum1 + x\n",
    "print(sum1)\n",
    "while i < len(lst):\n",
    "\n",
    "    sum2 += lst[i]\n",
    "    i = i + 1\n",
    "    \n",
    "print(sum2)"
   ]
  },
  {
   "cell_type": "markdown",
   "metadata": {},
   "source": [
    "Challenge: Write a function called beginning that takes a list as input and contains a while loop that only stops once the element of the list is the string ‘bye’. What is returned is a list that contains up to the first 10 strings, regardless of where the loop stops. (i.e., if it stops on the 32nd element, the first 10 are returned. If “bye” is the 5th element, the first 4 are returned.) If you want to make this even more of a challenge, do this without slicing"
   ]
  },
  {
   "cell_type": "code",
   "execution_count": 6,
   "metadata": {},
   "outputs": [
    {
     "name": "stdout",
     "output_type": "stream",
     "text": [
      "[1, 2, 3, 4, 5, 6, 7, 8, 9, 10]\n",
      "[1, 2, 3]\n"
     ]
    }
   ],
   "source": [
    "def beginning(lst):\n",
    "    i =0\n",
    "    a=[]\n",
    "    while lst[i] !=\"bye\":\n",
    "        a.append(lst[i])\n",
    "        i+=1\n",
    "        if i> 9:\n",
    "            break\n",
    "    return a\n",
    "x = beginning([1,2,3,4,5,6,7,8,9,10,11,12,13,14])\n",
    "print(x)\n",
    "y = beginning([1,2,3,\"bye\",5,6,7,8,9,10,11,12,13,14])\n",
    "print(y)"
   ]
  }
 ],
 "metadata": {
  "kernelspec": {
   "display_name": "Python 3",
   "language": "python",
   "name": "python3"
  },
  "language_info": {
   "codemirror_mode": {
    "name": "ipython",
    "version": 3
   },
   "file_extension": ".py",
   "mimetype": "text/x-python",
   "name": "python",
   "nbconvert_exporter": "python",
   "pygments_lexer": "ipython3",
   "version": "3.7.4"
  }
 },
 "nbformat": 4,
 "nbformat_minor": 4
}
