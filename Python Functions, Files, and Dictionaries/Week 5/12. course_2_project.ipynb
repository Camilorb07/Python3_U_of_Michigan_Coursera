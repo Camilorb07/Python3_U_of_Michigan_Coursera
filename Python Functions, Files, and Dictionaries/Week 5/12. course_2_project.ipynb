{
 "cells": [
  {
   "cell_type": "markdown",
   "metadata": {},
   "source": [
    "# course_2_project"
   ]
  },
  {
   "cell_type": "markdown",
   "metadata": {},
   "source": [
    "### Questions"
   ]
  },
  {
   "cell_type": "markdown",
   "metadata": {},
   "source": [
    "We have provided some synthetic (fake, semi-randomly generated) twitter data in a csv file named project_twitter_data.csv which has the text of a tweet, the number of retweets of that tweet, and the number of replies to that tweet. We have also words that express positive sentiment and negative sentiment, in the files positive_words.txt and negative_words.txt.\n",
    "\n",
    "Your task is to build a sentiment classifier, which will detect how positive or negative each tweet is. You will create a csv file, which contains columns for the Number of Retweets, Number of Replies, Positive Score (which is how many happy words are in the tweet), Negative Score (which is how many angry words are in the tweet), and the Net Score for each tweet. At the end, you upload the csv file to Excel or Google Sheets, and produce a graph of the Net Score vs Number of Retweets.\n",
    "\n",
    "To start, define a function called strip_punctuation which takes one parameter, a string which represents a word, and removes characters considered punctuation from everywhere in the word. (Hint: remember the .replace() method for strings.)"
   ]
  },
  {
   "cell_type": "code",
   "execution_count": 1,
   "metadata": {},
   "outputs": [],
   "source": [
    "punctuation_chars = [\"'\", '\"', \",\", \".\", \"!\", \":\", \";\", '#', '@']\n",
    "def strip_punctuation(strWord):\n",
    "    for charPunct in punctuation_chars:\n",
    "        strWord = strWord.replace(charPunct, \"\")\n",
    "    return strWord"
   ]
  },
  {
   "cell_type": "markdown",
   "metadata": {},
   "source": [
    "Next, copy in your strip_punctuation function and define a function called get_pos which takes one parameter, a string which represents one or more sentences, and calculates how many words in the string are considered positive words. Use the list, positive_words to determine what words will count as positive. The function should return a positive integer - how many occurrences there are of positive words in the text. Note that all of the words in positive_words are lower cased, so you’ll need to convert all the words in the input string to lower case as well."
   ]
  },
  {
   "cell_type": "code",
   "execution_count": 2,
   "metadata": {},
   "outputs": [],
   "source": [
    "punctuation_chars = [\"'\", '\"', \",\", \".\", \"!\", \":\", \";\", '#', '@']\n",
    "# list of positive words to use\n",
    "positive_words = []\n",
    "with open(\"positive_words.txt\") as pos_f:\n",
    "    for lin in pos_f:\n",
    "        if lin[0] != ';' and lin[0] != '\\n':\n",
    "            positive_words.append(lin.strip())\n",
    "def strip_punctuation(strWord):\n",
    "    for charPunct in punctuation_chars:\n",
    "        strWord = strWord.replace(charPunct, \"\")\n",
    "    return strWord\n",
    "\n",
    "def get_pos(strSentences):\n",
    "    strSentences = strip_punctuation(strSentences)\n",
    "    listStrSentences= strSentences.split()\n",
    "    \n",
    "    count=0\n",
    "    for word in listStrSentences:\n",
    "        for positiveWord in positive_words:\n",
    "            if word == positiveWord:\n",
    "                count+=1\n",
    "    return count"
   ]
  },
  {
   "cell_type": "markdown",
   "metadata": {},
   "source": [
    "Next, copy in your strip_punctuation function and define a function called get_neg which takes one parameter, a string which represents one or more sentences, and calculates how many words in the string are considered negative words. Use the list, negative_words to determine what words will count as negative. The function should return a positive integer - how many occurrences there are of negative words in the text. Note that all of the words in negative_words are lower cased, so you’ll need to convert all the words in the input string to lower case as well."
   ]
  },
  {
   "cell_type": "code",
   "execution_count": 3,
   "metadata": {},
   "outputs": [],
   "source": [
    "def strip_punctuation(strWord):\n",
    "    for charPunct in punctuation_chars:\n",
    "        strWord = strWord.replace(charPunct, \"\")\n",
    "    return strWord\n",
    "\n",
    "def get_neg(strSentences):\n",
    "    strSentences = strip_punctuation(strSentences)\n",
    "    listStrSentences = strSentences.split()\n",
    "    \n",
    "    count=0\n",
    "    for word in listStrSentences:\n",
    "        for negativeWord in negative_words:\n",
    "            if word == negativeWord:\n",
    "                count+=1\n",
    "    return count\n",
    "punctuation_chars = [\"'\", '\"', \",\", \".\", \"!\", \":\", \";\", '#', '@']\n",
    "\n",
    "negative_words = []\n",
    "with open(\"negative_words.txt\") as pos_f:\n",
    "    for lin in pos_f:\n",
    "        if lin[0] != ';' and lin[0] != '\\n':\n",
    "            negative_words.append(lin.strip())"
   ]
  },
  {
   "cell_type": "markdown",
   "metadata": {},
   "source": [
    "Finally, copy in your previous functions and write code that opens the file project_twitter_data.csv which has the fake generated twitter data (the text of a tweet, the number of retweets of that tweet, and the number of replies to that tweet). Your task is to build a sentiment classifier, which will detect how positive or negative each tweet is. Copy the code from the code windows above, and put that in the top of this code window. Now, you will write code to create a csv file called resulting_data.csv, which contains the Number of Retweets, Number of Replies, Positive Score (which is how many happy words are in the tweet), Negative Score (which is how many angry words are in the tweet), and the Net Score (how positive or negative the text is overall) for each tweet. The file should have those headers in that order. Remember that there is another component to this project. You will upload the csv file to Excel or Google Sheets and produce a graph of the Net Score vs Number of Retweets. Check Coursera for that portion of the assignment, if you’re accessing this textbook from Coursera."
   ]
  },
  {
   "cell_type": "code",
   "execution_count": 4,
   "metadata": {},
   "outputs": [],
   "source": [
    "projectTwitterDataFile = open(\"project_twitter_data.csv\",\"r\")\n",
    "resultingDataFile = open(\"resulting_data.csv\",\"w\")\n",
    "\n",
    "punctuation_chars = [\"'\", '\"', \",\", \".\", \"!\", \":\", \";\", '#', '@']\n",
    "# lists of words to use\n",
    "positive_words = []\n",
    "with open(\"positive_words.txt\") as pos_f:\n",
    "    for lin in pos_f:\n",
    "        if lin[0] != ';' and lin[0] != '\\n':\n",
    "            positive_words.append(lin.strip())\n",
    "            \n",
    "def get_pos(strSentences):\n",
    "    strSentences = strip_punctuation(strSentences)\n",
    "    listStrSentences= strSentences.split()\n",
    "    \n",
    "    count=0\n",
    "    for word in listStrSentences:\n",
    "        for positiveWord in positive_words:\n",
    "            if word == positiveWord:\n",
    "                count+=1\n",
    "    return count\n",
    "\n",
    "negative_words = []\n",
    "with open(\"negative_words.txt\") as pos_f:\n",
    "    for lin in pos_f:\n",
    "        if lin[0] != ';' and lin[0] != '\\n':\n",
    "            negative_words.append(lin.strip())\n",
    "\n",
    "            \n",
    "def get_neg(strSentences):\n",
    "    strSentences = strip_punctuation(strSentences)\n",
    "    listStrSentences = strSentences.split()\n",
    "    \n",
    "    count=0\n",
    "    for word in listStrSentences:\n",
    "        for negativeWord in negative_words:\n",
    "            if word == negativeWord:\n",
    "                count+=1\n",
    "    return count\n",
    "\n",
    "    \n",
    "def strip_punctuation(strWord):\n",
    "    for charPunct in punctuation_chars:\n",
    "        strWord = strWord.replace(charPunct, \"\")\n",
    "    return strWord\n",
    "\n",
    "\n",
    "def writeInDataFile(resultingDataFile):\n",
    "    resultingDataFile.write(\"Number of Retweets, Number of Replies, Positive Score, Negative Score, Net Score\")\n",
    "    resultingDataFile.write(\"\\n\")\n",
    "\n",
    "    linesPTDF =  projectTwitterDataFile.readlines()\n",
    "    headerDontUsed= linesPTDF.pop(0)\n",
    "    for linesTD in linesPTDF:\n",
    "        listTD = linesTD.strip().split(',')\n",
    "        resultingDataFile.write(\"{}, {}, {}, {}, {}\".format(listTD[1], listTD[2], get_pos(listTD[0]), get_neg(listTD[0]), (get_pos(listTD[0])-get_neg(listTD[0]))))    \n",
    "        resultingDataFile.write(\"\\n\")\n",
    "\n",
    "        \n",
    "\n",
    "writeInDataFile(resultingDataFile)\n",
    "projectTwitterDataFile.close()\n",
    "resultingDataFile.close()"
   ]
  },
  {
   "cell_type": "markdown",
   "metadata": {},
   "source": [
    "# graph in python"
   ]
  },
  {
   "cell_type": "code",
   "execution_count": 5,
   "metadata": {},
   "outputs": [],
   "source": [
    "import pandas as pd\n",
    "import matplotlib.pyplot as plt\n",
    "%matplotlib inline"
   ]
  },
  {
   "cell_type": "code",
   "execution_count": 6,
   "metadata": {},
   "outputs": [
    {
     "data": {
      "text/html": [
       "<div>\n",
       "<style scoped>\n",
       "    .dataframe tbody tr th:only-of-type {\n",
       "        vertical-align: middle;\n",
       "    }\n",
       "\n",
       "    .dataframe tbody tr th {\n",
       "        vertical-align: top;\n",
       "    }\n",
       "\n",
       "    .dataframe thead th {\n",
       "        text-align: right;\n",
       "    }\n",
       "</style>\n",
       "<table border=\"1\" class=\"dataframe\">\n",
       "  <thead>\n",
       "    <tr style=\"text-align: right;\">\n",
       "      <th></th>\n",
       "      <th>Number of Retweets</th>\n",
       "      <th>Number of Replies</th>\n",
       "      <th>Positive Score</th>\n",
       "      <th>Negative Score</th>\n",
       "      <th>Net Score</th>\n",
       "    </tr>\n",
       "  </thead>\n",
       "  <tbody>\n",
       "    <tr>\n",
       "      <th>0</th>\n",
       "      <td>3</td>\n",
       "      <td>0</td>\n",
       "      <td>0</td>\n",
       "      <td>0</td>\n",
       "      <td>0</td>\n",
       "    </tr>\n",
       "    <tr>\n",
       "      <th>1</th>\n",
       "      <td>1</td>\n",
       "      <td>0</td>\n",
       "      <td>2</td>\n",
       "      <td>2</td>\n",
       "      <td>0</td>\n",
       "    </tr>\n",
       "    <tr>\n",
       "      <th>2</th>\n",
       "      <td>1</td>\n",
       "      <td>2</td>\n",
       "      <td>0</td>\n",
       "      <td>0</td>\n",
       "      <td>0</td>\n",
       "    </tr>\n",
       "    <tr>\n",
       "      <th>3</th>\n",
       "      <td>3</td>\n",
       "      <td>1</td>\n",
       "      <td>1</td>\n",
       "      <td>0</td>\n",
       "      <td>1</td>\n",
       "    </tr>\n",
       "    <tr>\n",
       "      <th>4</th>\n",
       "      <td>6</td>\n",
       "      <td>0</td>\n",
       "      <td>2</td>\n",
       "      <td>0</td>\n",
       "      <td>2</td>\n",
       "    </tr>\n",
       "  </tbody>\n",
       "</table>\n",
       "</div>"
      ],
      "text/plain": [
       "   Number of Retweets   Number of Replies   Positive Score   Negative Score  \\\n",
       "0                   3                   0                0                0   \n",
       "1                   1                   0                2                2   \n",
       "2                   1                   2                0                0   \n",
       "3                   3                   1                1                0   \n",
       "4                   6                   0                2                0   \n",
       "\n",
       "    Net Score  \n",
       "0           0  \n",
       "1           0  \n",
       "2           0  \n",
       "3           1  \n",
       "4           2  "
      ]
     },
     "execution_count": 6,
     "metadata": {},
     "output_type": "execute_result"
    }
   ],
   "source": [
    "data = pd.read_csv(\"resulting_data.csv\") \n",
    "data.head()"
   ]
  },
  {
   "cell_type": "code",
   "execution_count": 7,
   "metadata": {},
   "outputs": [
    {
     "data": {
      "text/html": [
       "<div>\n",
       "<style scoped>\n",
       "    .dataframe tbody tr th:only-of-type {\n",
       "        vertical-align: middle;\n",
       "    }\n",
       "\n",
       "    .dataframe tbody tr th {\n",
       "        vertical-align: top;\n",
       "    }\n",
       "\n",
       "    .dataframe thead th {\n",
       "        text-align: right;\n",
       "    }\n",
       "</style>\n",
       "<table border=\"1\" class=\"dataframe\">\n",
       "  <thead>\n",
       "    <tr style=\"text-align: right;\">\n",
       "      <th></th>\n",
       "      <th>Number of Retweets</th>\n",
       "      <th>Net Score</th>\n",
       "    </tr>\n",
       "  </thead>\n",
       "  <tbody>\n",
       "    <tr>\n",
       "      <th>0</th>\n",
       "      <td>3</td>\n",
       "      <td>0</td>\n",
       "    </tr>\n",
       "    <tr>\n",
       "      <th>1</th>\n",
       "      <td>1</td>\n",
       "      <td>0</td>\n",
       "    </tr>\n",
       "    <tr>\n",
       "      <th>2</th>\n",
       "      <td>1</td>\n",
       "      <td>0</td>\n",
       "    </tr>\n",
       "    <tr>\n",
       "      <th>3</th>\n",
       "      <td>3</td>\n",
       "      <td>1</td>\n",
       "    </tr>\n",
       "    <tr>\n",
       "      <th>4</th>\n",
       "      <td>6</td>\n",
       "      <td>2</td>\n",
       "    </tr>\n",
       "  </tbody>\n",
       "</table>\n",
       "</div>"
      ],
      "text/plain": [
       "   Number of Retweets   Net Score\n",
       "0                   3           0\n",
       "1                   1           0\n",
       "2                   1           0\n",
       "3                   3           1\n",
       "4                   6           2"
      ]
     },
     "execution_count": 7,
     "metadata": {},
     "output_type": "execute_result"
    }
   ],
   "source": [
    "data = data.iloc[:, [0] + [-1]]\n",
    "data.head()"
   ]
  },
  {
   "cell_type": "code",
   "execution_count": 8,
   "metadata": {},
   "outputs": [
    {
     "data": {
      "image/png": "[encoded data removed]",
      "text/plain": [
       "<Figure size 432x288 with 1 Axes>"
      ]
     },
     "metadata": {
      "needs_background": "light"
     },
     "output_type": "display_data"
    }
   ],
   "source": [
    "plt.plot(data.iloc[:,1], data.iloc[:,0], 'o', color='blue')\n",
    "plt.ylabel(\"Number of Retweets\",fontsize =15)\n",
    "plt.xlabel(\"Net Score\",fontsize =15)\n",
    "plt.tight_layout()\n",
    "plt.title(\"Sentiment Analisys\",fontsize=20) \n",
    "plt.show()"
   ]
  }
 ],
 "metadata": {
  "kernelspec": {
   "display_name": "Python 3",
   "language": "python",
   "name": "python3"
  },
  "language_info": {
   "codemirror_mode": {
    "name": "ipython",
    "version": 3
   },
   "file_extension": ".py",
   "mimetype": "text/x-python",
   "name": "python",
   "nbconvert_exporter": "python",
   "pygments_lexer": "ipython3",
   "version": "3.7.4"
  }
 },
 "nbformat": 4,
 "nbformat_minor": 4
}
