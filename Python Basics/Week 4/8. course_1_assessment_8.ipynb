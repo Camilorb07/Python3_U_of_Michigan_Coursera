{
 "cells": [
  {
   "cell_type": "markdown",
   "metadata": {},
   "source": [
    "# course_1_assessment_8"
   ]
  },
  {
   "cell_type": "markdown",
   "metadata": {},
   "source": [
    "### Questions"
   ]
  },
  {
   "cell_type": "markdown",
   "metadata": {},
   "source": [
    "seqmut-1-5: Could aliasing cause potential confusion in this problem?"
   ]
  },
  {
   "cell_type": "code",
   "execution_count": 1,
   "metadata": {},
   "outputs": [
    {
     "name": "stdout",
     "output_type": "stream",
     "text": [
      "['q', 'i']\n"
     ]
    }
   ],
   "source": [
    "b = ['q', 'u', 'i']\n",
    "z = b\n",
    "b[1] = 'i'\n",
    "z.remove('i')\n",
    "print(z)"
   ]
  },
  {
   "cell_type": "markdown",
   "metadata": {},
   "source": [
    "1. (X) yes\n",
    "2. ( ) no"
   ]
  },
  {
   "cell_type": "markdown",
   "metadata": {},
   "source": [
    "seqmut-1-6: Could aliasing cause potential confusion in this problem?"
   ]
  },
  {
   "cell_type": "code",
   "execution_count": 2,
   "metadata": {},
   "outputs": [],
   "source": [
    "sent = \"Holidays can be a fun time when you have good company!\"\n",
    "phrase = sent\n",
    "phrase = phrase + \" Holidays can also be fun on your own!\""
   ]
  },
  {
   "cell_type": "markdown",
   "metadata": {},
   "source": [
    "1. ( ) yes\n",
    "2. (X) no"
   ]
  },
  {
   "cell_type": "markdown",
   "metadata": {},
   "source": [
    "seqmut-1-1: Which of these is a correct reference diagram following the execution of the following code?"
   ]
  },
  {
   "cell_type": "code",
   "execution_count": 3,
   "metadata": {},
   "outputs": [],
   "source": [
    "lst = ['mercury', 'venus', 'earth', 'mars', 'jupiter', 'saturn', 'uranus', 'neptune', 'pluto']\n",
    "lst.remove('pluto')\n",
    "first_three = lst[:3]"
   ]
  },
  {
   "cell_type": "markdown",
   "metadata": {},
   "source": [
    "<img src=\"https://fopp.umsi.education/books/published/fopp/_images//week3a1_1.png\">\n",
    "<img src=\"https://fopp.umsi.education/books/published/fopp/_images//week3a1_2.png\">"
   ]
  },
  {
   "cell_type": "markdown",
   "metadata": {},
   "source": [
    "1. (X) I.\n",
    "2. ( ) II.\n",
    "3. ( ) Neither is the correct reference diagram."
   ]
  },
  {
   "cell_type": "markdown",
   "metadata": {},
   "source": [
    "seqmut-1-7: Which of these is a correct reference diagram following the execution of the following code?"
   ]
  },
  {
   "cell_type": "code",
   "execution_count": 5,
   "metadata": {},
   "outputs": [],
   "source": [
    "x = [\"dogs\", \"cats\", \"birds\", \"reptiles\"]\n",
    "y = x\n",
    "x += ['fish', 'horses']\n",
    "y = y + ['sheep']"
   ]
  },
  {
   "cell_type": "markdown",
   "metadata": {},
   "source": [
    "#### 1.\n",
    "<img src=\"https://fopp.umsi.education/books/published/fopp/_images//week3a3_1.png\">\n",
    "\n",
    "#### 2.\n",
    "<img src=\"https://fopp.umsi.education/books/published/fopp/_images//week3a3_2.png\">\n",
    "\n",
    "#### 3.\n",
    "<img src=\"https://fopp.umsi.education/books/published/fopp/_images//week3a3_3.png\">\n",
    "\n",
    "#### 4.\n",
    "<img src=\"https://fopp.umsi.education/books/published/fopp/_images//week3a3_4.png\">"
   ]
  },
  {
   "cell_type": "markdown",
   "metadata": {},
   "source": [
    "1. ( ) I.\n",
    "2. ( ) II.\n",
    "3. ( ) III.\n",
    "4. (X) IV."
   ]
  },
  {
   "cell_type": "markdown",
   "metadata": {},
   "source": [
    "seqmut-1-8: Which of these is a correct reference diagram following the execution of the following code?"
   ]
  },
  {
   "cell_type": "code",
   "execution_count": 6,
   "metadata": {},
   "outputs": [],
   "source": [
    "sent = \"The mall has excellent sales right now.\"\n",
    "wrds = sent.split()\n",
    "wrds[1] = 'store'\n",
    "new_sent = \" \".join(wrds)"
   ]
  },
  {
   "cell_type": "markdown",
   "metadata": {},
   "source": [
    "#### 1.\n",
    "<img src=\"https://fopp.umsi.education/books/published/fopp/_images//week3a2_1.png\">\n",
    "\n",
    "#### 2.\n",
    "<img src=\"https://fopp.umsi.education/books/published/fopp/_images//week3a2_2.png\">\n",
    "\n",
    "#### 3.\n",
    "<img src=\"https://fopp.umsi.education/books/published/fopp/_images//week3a2_3.png\">\n",
    "\n",
    "#### 4.\n",
    "<img src=\"https://fopp.umsi.education/books/published/fopp/_images//week3a2_4.png\">"
   ]
  },
  {
   "cell_type": "markdown",
   "metadata": {},
   "source": [
    "1. (X) I.\n",
    "2. ( ) II.\n",
    "3. ( ) III.\n",
    "4. ( ) IV."
   ]
  }
 ],
 "metadata": {
  "kernelspec": {
   "display_name": "Python 3",
   "language": "python",
   "name": "python3"
  },
  "language_info": {
   "codemirror_mode": {
    "name": "ipython",
    "version": 3
   },
   "file_extension": ".py",
   "mimetype": "text/x-python",
   "name": "python",
   "nbconvert_exporter": "python",
   "pygments_lexer": "ipython3",
   "version": "3.7.4"
  }
 },
 "nbformat": 4,
 "nbformat_minor": 4
}
