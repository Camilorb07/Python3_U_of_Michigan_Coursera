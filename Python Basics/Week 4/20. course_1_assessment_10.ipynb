{
 "cells": [
  {
   "cell_type": "markdown",
   "metadata": {},
   "source": [
    "# course_1_assessment_10"
   ]
  },
  {
   "cell_type": "markdown",
   "metadata": {},
   "source": [
    "### Questions"
   ]
  },
  {
   "cell_type": "markdown",
   "metadata": {},
   "source": [
    "seqmut-1-9: Which of these is the accumulator variable?"
   ]
  },
  {
   "cell_type": "code",
   "execution_count": 1,
   "metadata": {},
   "outputs": [
    {
     "name": "stdout",
     "output_type": "stream",
     "text": [
      "h!\n",
      "e!\n",
      "l!\n",
      "l!\n",
      "o!\n",
      " !\n",
      "w!\n",
      "o!\n",
      "r!\n",
      "l!\n",
      "d!\n",
      "!!\n"
     ]
    }
   ],
   "source": [
    "byzo = 'hello world!'\n",
    "c = 0\n",
    "for x in byzo:\n",
    "    z = x + \"!\"\n",
    "    print(z)\n",
    "    c = c + 1"
   ]
  },
  {
   "cell_type": "markdown",
   "metadata": {},
   "source": [
    "1. ( ) byzo\n",
    "2. ( ) x\n",
    "3. ( ) z\n",
    "4. (X) c"
   ]
  },
  {
   "cell_type": "markdown",
   "metadata": {},
   "source": [
    "seqmut-1-10: Which of these is the sequence?"
   ]
  },
  {
   "cell_type": "code",
   "execution_count": 2,
   "metadata": {},
   "outputs": [],
   "source": [
    "cawdra = ['candy', 'daisy', 'pear', 'peach', 'gem', 'crown']\n",
    "t = 0\n",
    "for elem in cawdra:\n",
    "    t = t + len(elem)"
   ]
  },
  {
   "cell_type": "markdown",
   "metadata": {},
   "source": [
    "1. (X) cawdra\n",
    "2. ( ) elem\n",
    "3. ( ) t"
   ]
  },
  {
   "cell_type": "markdown",
   "metadata": {},
   "source": [
    "seqmut-1-11: Which of these is the iterator (loop) variable?"
   ]
  },
  {
   "cell_type": "code",
   "execution_count": 3,
   "metadata": {},
   "outputs": [],
   "source": [
    "lst = [5, 10, 3, 8, 94, 2, 4, 9]\n",
    "num = 0\n",
    "for item in lst:\n",
    "    num += item"
   ]
  },
  {
   "cell_type": "markdown",
   "metadata": {},
   "source": [
    "1. (X) item\n",
    "2. ( ) lst\n",
    "3. ( ) num"
   ]
  },
  {
   "cell_type": "markdown",
   "metadata": {},
   "source": [
    "seqmut-1-12: What is the iterator (loop) variable in the following?"
   ]
  },
  {
   "cell_type": "code",
   "execution_count": 4,
   "metadata": {},
   "outputs": [],
   "source": [
    "rest = [\"sleep\", 'dormir', 'dormire', \"slaap\", 'sen', 'yuxu', 'yanam']\n",
    "let = ''\n",
    "for phrase in rest:\n",
    "    let += phrase[0]"
   ]
  },
  {
   "cell_type": "markdown",
   "metadata": {},
   "source": [
    "The iterator variable is: phrase"
   ]
  },
  {
   "cell_type": "markdown",
   "metadata": {},
   "source": [
    "Currently there is a string called str1. Write code to create a list called chars which should contain the characters from str1. Each character in str1 should be its own element in the list chars."
   ]
  },
  {
   "cell_type": "code",
   "execution_count": 5,
   "metadata": {},
   "outputs": [
    {
     "name": "stdout",
     "output_type": "stream",
     "text": [
      "['I', ' ', 'l', 'o', 'v', 'e', ' ', 'p', 'y', 't', 'h', 'o', 'n']\n"
     ]
    }
   ],
   "source": [
    "str1 = \"I love python\"\n",
    "# HINT: what's the accumulator? That should go here.\n",
    "chars = []\n",
    "for l in str1:\n",
    "    chars.append(l)\n",
    "print(chars)"
   ]
  },
  {
   "cell_type": "code",
   "execution_count": null,
   "metadata": {},
   "outputs": [],
   "source": [
    "]"
   ]
  }
 ],
 "metadata": {
  "kernelspec": {
   "display_name": "Python 3",
   "language": "python",
   "name": "python3"
  },
  "language_info": {
   "codemirror_mode": {
    "name": "ipython",
    "version": 3
   },
   "file_extension": ".py",
   "mimetype": "text/x-python",
   "name": "python",
   "nbconvert_exporter": "python",
   "pygments_lexer": "ipython3",
   "version": "3.7.4"
  }
 },
 "nbformat": 4,
 "nbformat_minor": 4
}
