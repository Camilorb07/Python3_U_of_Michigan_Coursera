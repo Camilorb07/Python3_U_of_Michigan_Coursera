{
 "cells": [
  {
   "cell_type": "markdown",
   "metadata": {},
   "source": [
    "# course_1_assessment_2"
   ]
  },
  {
   "cell_type": "markdown",
   "metadata": {},
   "source": [
    "There is a function we are providing in for you in this problem called square. It takes one integer and returns the square of that integer value. Write code to assign a variable called xyz the value 5*5 (five squared). Use the square function, rather than just multiplying with *."
   ]
  },
  {
   "cell_type": "code",
   "execution_count": 1,
   "metadata": {},
   "outputs": [],
   "source": [
    "# Defined Function\n",
    "def square(x): \n",
    "    return x**2"
   ]
  },
  {
   "cell_type": "code",
   "execution_count": 2,
   "metadata": {},
   "outputs": [
    {
     "name": "stdout",
     "output_type": "stream",
     "text": [
      "25\n"
     ]
    }
   ],
   "source": [
    "xyz = square(5)\n",
    "print(xyz)"
   ]
  },
  {
   "cell_type": "markdown",
   "metadata": {},
   "source": [
    "Write code to assign the number of characters in the string rv to a variable num_chars."
   ]
  },
  {
   "cell_type": "code",
   "execution_count": 3,
   "metadata": {},
   "outputs": [
    {
     "name": "stdout",
     "output_type": "stream",
     "text": [
      "348\n"
     ]
    }
   ],
   "source": [
    "rv = \"\"\"Once upon a midnight dreary, while I pondered, weak and weary,\n",
    "    Over many a quaint and curious volume of forgotten lore,\n",
    "    While I nodded, nearly napping, suddenly there came a tapping,\n",
    "    As of some one gently rapping, rapping at my chamber door.\n",
    "    'Tis some visitor, I muttered, tapping at my chamber door;\n",
    "    Only this and nothing more.\"\"\"\n",
    "\n",
    "# Write your code here!\n",
    "num_chars = len(rv)\n",
    "print(num_chars)"
   ]
  },
  {
   "cell_type": "markdown",
   "metadata": {},
   "source": [
    "data-19-1: The code below initializes two variables, z and y. We want to assign the total number of characters in z and in y to the variable a. Which of the following solutions, if any, would be considered hard coding?"
   ]
  },
  {
   "cell_type": "code",
   "execution_count": 4,
   "metadata": {},
   "outputs": [],
   "source": [
    "z = \"hello world\"\n",
    "y = \"welcome!\""
   ]
  },
  {
   "cell_type": "markdown",
   "metadata": {},
   "source": [
    "1. (X) a = len(\"hello worldwelcome!\") /n \n",
    "2. (X) a = 11 + 8\n",
    "3. ( ) a = len(z) + len(y)\n",
    "4. (X) a = len(\"hello world\") + len(\"welcome!\")\n",
    "5. ( ) none of the above are hardcoding."
   ]
  }
 ],
 "metadata": {
  "kernelspec": {
   "display_name": "Python 3",
   "language": "python",
   "name": "python3"
  },
  "language_info": {
   "codemirror_mode": {
    "name": "ipython",
    "version": 3
   },
   "file_extension": ".py",
   "mimetype": "text/x-python",
   "name": "python",
   "nbconvert_exporter": "python",
   "pygments_lexer": "ipython3",
   "version": "3.7.4"
  }
 },
 "nbformat": 4,
 "nbformat_minor": 4
}
