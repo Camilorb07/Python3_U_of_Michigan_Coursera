{
 "cells": [
  {
   "cell_type": "markdown",
   "metadata": {},
   "source": [
    "# course_1_assessment_3"
   ]
  },
  {
   "cell_type": "markdown",
   "metadata": {},
   "source": [
    "### Questions"
   ]
  },
  {
   "cell_type": "markdown",
   "metadata": {},
   "source": [
    "turtle-11-1: What are correct ways to tell a turtle named Tex to move forward 20 pixels? Select as many as apply."
   ]
  },
  {
   "cell_type": "markdown",
   "metadata": {},
   "source": [
    "1. (X) Tex.forward(20)\n",
    "2. ( ) forward() + 20\n",
    "3. ( ) forward(20)\n",
    "4. ( ) forward(20).Tex\n",
    "5. (X) Tex.forward(10 + 10)"
   ]
  },
  {
   "cell_type": "markdown",
   "metadata": {},
   "source": [
    "turtle-11-2: Which is the correct way to make a new instance of the Turtle class?"
   ]
  },
  {
   "cell_type": "markdown",
   "metadata": {},
   "source": [
    "1. ( ) turtle(Turtle)\n",
    "2. (X) turtle.Turtle()\n",
    "3. ( ) Turtle.turtle()\n",
    "4. ( ) Turtle(turtle)"
   ]
  },
  {
   "cell_type": "markdown",
   "metadata": {},
   "source": [
    "turtle-11-3: What does each instance of the Turtle class represent?"
   ]
  },
  {
   "cell_type": "markdown",
   "metadata": {},
   "source": [
    "1. ( ) The turtle class.\n",
    "2. ( ) The same turtle that is used in each drawing your programs make.\n",
    "3. (X) A unique 'turtle' that you can use to draw."
   ]
  },
  {
   "cell_type": "markdown",
   "metadata": {},
   "source": [
    "turtle-11-4: True or False, attributes/instance variables are just like other variables in Python."
   ]
  },
  {
   "cell_type": "markdown",
   "metadata": {},
   "source": [
    "1. (X) True\n",
    "2. ( ) False"
   ]
  },
  {
   "cell_type": "markdown",
   "metadata": {},
   "source": [
    "turtle-11-4: Select all of the following things that methods can do:"
   ]
  },
  {
   "cell_type": "markdown",
   "metadata": {},
   "source": [
    "1. (X) Change the value of an attribute.\n",
    "2. (X) Return values.\n",
    "3. (X) Create new attributes of an instance and set their values.\n",
    "4. ( ) Delete object instances.\n",
    "5. ( ) None of the above."
   ]
  },
  {
   "cell_type": "markdown",
   "metadata": {},
   "source": [
    "turtle-11-5: For an instance of a class that is assigned to the variable student, what is the proper way to refer to the title attribute/instance variable?"
   ]
  },
  {
   "cell_type": "markdown",
   "metadata": {},
   "source": [
    "1. ( ) student.title()\n",
    "2. ( ) title.student()\n",
    "3. ( ) title.student\n",
    "4. ( ) student(title)\n",
    "5. (X) student.title"
   ]
  },
  {
   "cell_type": "markdown",
   "metadata": {},
   "source": [
    "turtle-11-6: What is the name of jane’s attribute (not method) that is referred to in the following code?"
   ]
  },
  {
   "cell_type": "markdown",
   "metadata": {},
   "source": [
    "import turtle\n",
    "\n",
    "jane = turtle.Turtle()\n",
    "jane.forward(20)\n",
    "print(jane.x)"
   ]
  },
  {
   "cell_type": "markdown",
   "metadata": {},
   "source": [
    "The attribute is: X"
   ]
  },
  {
   "cell_type": "markdown",
   "metadata": {},
   "source": [
    "turtle-11-7: What are the names of the instances in the following code? Please put one instance per blank space and enter them in the order that the computer would read them."
   ]
  },
  {
   "cell_type": "markdown",
   "metadata": {},
   "source": [
    "import turtle\n",
    "wn = turtle.Screen()\n",
    "\n",
    "jazz = turtle.Turtle()\n",
    "jazz.forward(50)\n",
    "jazz.right(90)\n",
    "pop = turtle.Turtle()\n",
    "pop.left(180)\n",
    "pop.forward(76)"
   ]
  },
  {
   "cell_type": "markdown",
   "metadata": {},
   "source": [
    "1. wn\n",
    "2. jazz\n",
    "3. pop"
   ]
  }
 ],
 "metadata": {
  "kernelspec": {
   "display_name": "Python 3",
   "language": "python",
   "name": "python3"
  },
  "language_info": {
   "codemirror_mode": {
    "name": "ipython",
    "version": 3
   },
   "file_extension": ".py",
   "mimetype": "text/x-python",
   "name": "python",
   "nbconvert_exporter": "python",
   "pygments_lexer": "ipython3",
   "version": "3.7.4"
  }
 },
 "nbformat": 4,
 "nbformat_minor": 4
}
